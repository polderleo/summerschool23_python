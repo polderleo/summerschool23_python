{
 "cells": [
  {
   "cell_type": "markdown",
   "metadata": {},
   "source": [
    "## Lotto in Python "
   ]
  },
  {
   "cell_type": "code",
   "execution_count": 2,
   "metadata": {},
   "outputs": [],
   "source": [
    "def lotto_input(rawInput):\n",
    "    all_lotto_fields = []\n",
    "    print(\"Wie viele Felder möchten Sie spielen?\")\n",
    "    anzahl_felder = int(input())\n",
    "    if anzahl_felder < 1 or anzahl_felder > 12:\n",
    "        print(\"Ungültige Eingabe\")\n",
    "        return\n",
    "    else:\n",
    "        for i in range(anzahl_felder):\n",
    "            print(\"Eingabe der Zahlen für Feld\", i+1)\n",
    "            new_list = []\n",
    "            for j in range(6):\n",
    "                print(\"Zahl\", j+1, \"von 6\")\n",
    "                zahl = int(input())\n",
    "                if (zahl < 1 or zahl > 49) or zahl in new_list:\n",
    "                    print(\"Ungültige Eingabe\")\n",
    "                    return\n",
    "                else:\n",
    "                    new_list.append(zahl)\n",
    "            all_lotto_fields.append(new_list)\n",
    "        print(\"Ihre Zahlen:\", all_lotto_fields)\n",
    "        return all_lotto_fields\n",
    "\n",
    "\n",
    "def generate_lotto(seed=None):\n",
    "    import random\n",
    "    random.seed(seed)\n",
    "    lotto_numbers = []\n",
    "    while len(lotto_numbers) < 6:\n",
    "        number = random.randint(1, 49)\n",
    "        if number not in lotto_numbers:\n",
    "            lotto_numbers.append(number)\n",
    "    lotto_numbers.sort()\n",
    "    return lotto_numbers\n",
    "\n",
    "\n",
    "\n",
    "def lotto_compare(lotto_numbers, all_lotto_fields, enablePrint=False):\n",
    "    if enablePrint:\n",
    "        print(\"Die Lottozahlen sind:\", lotto_numbers)\n",
    "    for i in range(len(all_lotto_fields)):\n",
    "        counter = 0\n",
    "        for j in range(6):\n",
    "            if all_lotto_fields[i][j] in lotto_numbers:\n",
    "                counter += 1\n",
    "        if counter == 3:\n",
    "            if enablePrint:\n",
    "                print(\"Sie haben 10€ gewonnen\")\n",
    "            return 10\n",
    "        elif counter == 4:\n",
    "            if enablePrint:\n",
    "                print(\"Sie haben 100€ gewonnen\")\n",
    "            return 100\n",
    "        elif counter == 5:\n",
    "            if enablePrint:\n",
    "                print(\"Sie haben 1.000€ gewonnen\")\n",
    "            return 1000\n",
    "        elif counter == 6:\n",
    "            if enablePrint:\n",
    "                print(\"Sie haben 1.000.000€ gewonnen\")\n",
    "            return 1000000\n",
    "        else:\n",
    "            return 0"
   ]
  },
  {
   "cell_type": "code",
   "execution_count": 3,
   "metadata": {},
   "outputs": [
    {
     "name": "stdout",
     "output_type": "stream",
     "text": [
      "Gewinnklasse 10€:         1790\n",
      "Gewinnklasse 100€:          79\n",
      "Gewinnklasse 1.000€:         1\n",
      "Gewinnklasse 1.000.000€:     0\n"
     ]
    }
   ],
   "source": [
    "result = []\n",
    "\n",
    "for i in range(100000):\n",
    "    result.append(lotto_compare(generate_lotto(),\n",
    "    [\n",
    "        [1, 2, 3, 4, 5, 6], \n",
    "        [19, 26, 27, 32, 40, 43],\n",
    "        [31,7,17,49,12,1]\n",
    "    ], \n",
    "    False\n",
    "    ))\n",
    "\n",
    "print(f\"Gewinnklasse 10€: {result.count(10):>12}\")\n",
    "print(f\"Gewinnklasse 100€: {result.count(100):>11}\")\n",
    "print(f\"Gewinnklasse 1.000€: {result.count(1000):>9}\")\n",
    "print(f\"Gewinnklasse 1.000.000€: {result.count(1000000):>5}\")"
   ]
  }
 ],
 "metadata": {
  "kernelspec": {
   "display_name": "Python 3",
   "language": "python",
   "name": "python3"
  },
  "language_info": {
   "codemirror_mode": {
    "name": "ipython",
    "version": 3
   },
   "file_extension": ".py",
   "mimetype": "text/x-python",
   "name": "python",
   "nbconvert_exporter": "python",
   "pygments_lexer": "ipython3",
   "version": "3.11.3"
  },
  "orig_nbformat": 4
 },
 "nbformat": 4,
 "nbformat_minor": 2
}
